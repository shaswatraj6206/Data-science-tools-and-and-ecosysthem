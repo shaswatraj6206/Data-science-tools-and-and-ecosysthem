{
 "cells": [
  {
   "cell_type": "markdown",
   "id": "145f7ca4-950f-4c0f-ab4e-65941381381c",
   "metadata": {},
   "source": [
    "**Data Science Tools and Ecosystem**"
   ]
  },
  {
   "cell_type": "markdown",
   "id": "da28e270-6ba2-4d84-8089-06803485f78f",
   "metadata": {},
   "source": [
    "*In This Notebook,Data Science Tools and Ecosystem are Summarized*"
   ]
  },
  {
   "cell_type": "markdown",
   "id": "a3e4281e-4c41-43c4-b35d-029cf19e9b9b",
   "metadata": {},
   "source": [
    "Some of the popular languages that data scienstist use are:\n",
    "1. Pyhton\n",
    "2. R\n",
    "3. SQL\n",
    "4. C++\n",
    "5. Java"
   ]
  },
  {
   "cell_type": "markdown",
   "id": "d3159e81-9194-46ef-a5fb-b3c4d117e167",
   "metadata": {},
   "source": [
    "Some of the commonly used libraries used by data scientists include:\n",
    "1. Tensorflow.\n",
    "2. Numpy.\n",
    "3. Scipy.\n",
    "4. Pandas.\n",
    "5. Matplotlib.\n",
    "6. Keras.\n",
    "7. Scikit-Learn.\n",
    "8. PyTorch.\n"
   ]
  },
  {
   "cell_type": "markdown",
   "id": "310a81bf-ddaa-48fe-8d7a-fd354c2ed416",
   "metadata": {},
   "source": [
    "|Data science Tools|\n",
    "|---|\n",
    "|SAS|\n",
    "|Apache Hadoop|\n",
    "|Tensorflow|"
   ]
  },
  {
   "cell_type": "markdown",
   "id": "585efbc2-d902-40f8-97bd-c529da1d646b",
   "metadata": {},
   "source": [
    "### Below are a few examples of evaluating arithmetic expressions in python"
   ]
  },
  {
   "cell_type": "code",
   "execution_count": 53,
   "id": "97c73cc2-7c2f-4fb0-9366-f76eea9ee54d",
   "metadata": {},
   "outputs": [
    {
     "data": {
      "text/plain": [
       "17"
      ]
     },
     "execution_count": 53,
     "metadata": {},
     "output_type": "execute_result"
    }
   ],
   "source": [
    "#this is a comman arithmetic example to multiply and then add integers\n",
    "(3*4)+5"
   ]
  },
  {
   "cell_type": "code",
   "execution_count": 55,
   "id": "14b7d661-d121-421f-9729-275bf926097e",
   "metadata": {},
   "outputs": [
    {
     "data": {
      "text/plain": [
       "3.3333333333333335"
      ]
     },
     "execution_count": 55,
     "metadata": {},
     "output_type": "execute_result"
    }
   ],
   "source": [
    "#this will convert 200 minutes to hours by diving by 60\n",
    "200/60"
   ]
  },
  {
   "cell_type": "markdown",
   "id": "1dc67e30-7ebb-4c81-ab5d-0a9ffd01b488",
   "metadata": {},
   "source": [
    "__objective__\n",
    "* List popular languages for data science\n",
    "* List popular libraries for data science\n",
    "* List of well known data science tools\n",
    "* How to provide comments in the cell              \n",
    "                        "
   ]
  },
  {
   "cell_type": "markdown",
   "id": "d869a882-f558-47f0-9627-bbcb61a5df49",
   "metadata": {},
   "source": [
    "## AUTHOR\n",
    "shaswat raj"
   ]
  },
  {
   "cell_type": "code",
   "execution_count": null,
   "id": "e1621715-6ea1-44a6-b7a7-f61b68ed0ecb",
   "metadata": {},
   "outputs": [],
   "source": []
  }
 ],
 "metadata": {
  "kernelspec": {
   "display_name": "Python 3 (ipykernel)",
   "language": "python",
   "name": "python3"
  },
  "language_info": {
   "codemirror_mode": {
    "name": "ipython",
    "version": 3
   },
   "file_extension": ".py",
   "mimetype": "text/x-python",
   "name": "python",
   "nbconvert_exporter": "python",
   "pygments_lexer": "ipython3",
   "version": "3.12.4"
  }
 },
 "nbformat": 4,
 "nbformat_minor": 5
}
